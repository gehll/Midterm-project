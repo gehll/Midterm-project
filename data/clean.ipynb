{
 "cells": [
  {
   "cell_type": "markdown",
   "metadata": {},
   "source": [
    "# Exploring and cleaning Barcelona data\n",
    "\n",
    "There are several .csv files in the data/ folder. For this mid-term projecto we are going to use **bus_stops.csv** and **transports.csv** data.\n",
    "\n",
    "The main idea is to plot al types of transportation methods in Barcelona and create a dashboard to get the nearests transportation locations given a point in barcelona and a radius\n",
    "\n",
    "---"
   ]
  },
  {
   "cell_type": "markdown",
   "metadata": {},
   "source": [
    "## Data exploration"
   ]
  },
  {
   "cell_type": "code",
   "execution_count": 1,
   "metadata": {},
   "outputs": [],
   "source": [
    "import pandas as pd\n",
    "import numpy as np\n",
    "import re\n",
    "from pymongo import MongoClient\n",
    "import os\n",
    "from dotenv import load_dotenv\n",
    "load_dotenv()\n",
    "\n",
    "bus_stops = pd.read_csv(\"bus_stops.csv\")\n",
    "transports = pd.read_csv(\"transports.csv\")"
   ]
  },
  {
   "cell_type": "code",
   "execution_count": 2,
   "metadata": {},
   "outputs": [
    {
     "data": {
      "text/html": [
       "<div>\n",
       "<style scoped>\n",
       "    .dataframe tbody tr th:only-of-type {\n",
       "        vertical-align: middle;\n",
       "    }\n",
       "\n",
       "    .dataframe tbody tr th {\n",
       "        vertical-align: top;\n",
       "    }\n",
       "\n",
       "    .dataframe thead th {\n",
       "        text-align: right;\n",
       "    }\n",
       "</style>\n",
       "<table border=\"1\" class=\"dataframe\">\n",
       "  <thead>\n",
       "    <tr style=\"text-align: right;\">\n",
       "      <th></th>\n",
       "      <th>Code</th>\n",
       "      <th>Transport</th>\n",
       "      <th>Longitude</th>\n",
       "      <th>Latitude</th>\n",
       "      <th>Bus.Stop</th>\n",
       "      <th>District.Name</th>\n",
       "      <th>Neighborhood.Name</th>\n",
       "    </tr>\n",
       "  </thead>\n",
       "  <tbody>\n",
       "    <tr>\n",
       "      <th>0</th>\n",
       "      <td>K014</td>\n",
       "      <td>Day bus stop</td>\n",
       "      <td>2.171619</td>\n",
       "      <td>41.413744</td>\n",
       "      <td>BUS -192--</td>\n",
       "      <td>Horta-Guinardó</td>\n",
       "      <td>el Guinardó</td>\n",
       "    </tr>\n",
       "    <tr>\n",
       "      <th>1</th>\n",
       "      <td>K014</td>\n",
       "      <td>Day bus stop</td>\n",
       "      <td>2.134902</td>\n",
       "      <td>41.420222</td>\n",
       "      <td>BUS -124--</td>\n",
       "      <td>Gràcia</td>\n",
       "      <td>Vallcarca i els Penitents</td>\n",
       "    </tr>\n",
       "    <tr>\n",
       "      <th>2</th>\n",
       "      <td>K014</td>\n",
       "      <td>Day bus stop</td>\n",
       "      <td>2.162913</td>\n",
       "      <td>41.423187</td>\n",
       "      <td>BUS -117--</td>\n",
       "      <td>Horta-Guinardó</td>\n",
       "      <td>la Font d'en Fargues</td>\n",
       "    </tr>\n",
       "    <tr>\n",
       "      <th>3</th>\n",
       "      <td>K014</td>\n",
       "      <td>Day bus stop</td>\n",
       "      <td>2.163667</td>\n",
       "      <td>41.422899</td>\n",
       "      <td>BUS -117--</td>\n",
       "      <td>Horta-Guinardó</td>\n",
       "      <td>la Font d'en Fargues</td>\n",
       "    </tr>\n",
       "    <tr>\n",
       "      <th>4</th>\n",
       "      <td>K014</td>\n",
       "      <td>Day bus stop</td>\n",
       "      <td>2.120212</td>\n",
       "      <td>41.397209</td>\n",
       "      <td>BUS -130--</td>\n",
       "      <td>Sarrià-Sant Gervasi</td>\n",
       "      <td>Sarrià</td>\n",
       "    </tr>\n",
       "  </tbody>\n",
       "</table>\n",
       "</div>"
      ],
      "text/plain": [
       "   Code     Transport  Longitude   Latitude    Bus.Stop        District.Name  \\\n",
       "0  K014  Day bus stop   2.171619  41.413744  BUS -192--       Horta-Guinardó   \n",
       "1  K014  Day bus stop   2.134902  41.420222  BUS -124--               Gràcia   \n",
       "2  K014  Day bus stop   2.162913  41.423187  BUS -117--       Horta-Guinardó   \n",
       "3  K014  Day bus stop   2.163667  41.422899  BUS -117--       Horta-Guinardó   \n",
       "4  K014  Day bus stop   2.120212  41.397209  BUS -130--  Sarrià-Sant Gervasi   \n",
       "\n",
       "           Neighborhood.Name  \n",
       "0                el Guinardó  \n",
       "1  Vallcarca i els Penitents  \n",
       "2       la Font d'en Fargues  \n",
       "3       la Font d'en Fargues  \n",
       "4                     Sarrià  "
      ]
     },
     "execution_count": 2,
     "metadata": {},
     "output_type": "execute_result"
    }
   ],
   "source": [
    "bus_stops.head()"
   ]
  },
  {
   "cell_type": "code",
   "execution_count": 3,
   "metadata": {},
   "outputs": [
    {
     "data": {
      "text/html": [
       "<div>\n",
       "<style scoped>\n",
       "    .dataframe tbody tr th:only-of-type {\n",
       "        vertical-align: middle;\n",
       "    }\n",
       "\n",
       "    .dataframe tbody tr th {\n",
       "        vertical-align: top;\n",
       "    }\n",
       "\n",
       "    .dataframe thead th {\n",
       "        text-align: right;\n",
       "    }\n",
       "</style>\n",
       "<table border=\"1\" class=\"dataframe\">\n",
       "  <thead>\n",
       "    <tr style=\"text-align: right;\">\n",
       "      <th></th>\n",
       "      <th>Code</th>\n",
       "      <th>Transport</th>\n",
       "      <th>Longitude</th>\n",
       "      <th>Latitude</th>\n",
       "      <th>Bus.Stop</th>\n",
       "      <th>District.Name</th>\n",
       "      <th>Neighborhood.Name</th>\n",
       "    </tr>\n",
       "  </thead>\n",
       "  <tbody>\n",
       "    <tr>\n",
       "      <th>215</th>\n",
       "      <td>K015</td>\n",
       "      <td>Night bus stop</td>\n",
       "      <td>2.175509</td>\n",
       "      <td>41.463715</td>\n",
       "      <td>NITBUS -N3--</td>\n",
       "      <td>NaN</td>\n",
       "      <td>NaN</td>\n",
       "    </tr>\n",
       "    <tr>\n",
       "      <th>269</th>\n",
       "      <td>K014</td>\n",
       "      <td>Day bus stop</td>\n",
       "      <td>2.175149</td>\n",
       "      <td>41.463839</td>\n",
       "      <td>BUS -104--</td>\n",
       "      <td>NaN</td>\n",
       "      <td>NaN</td>\n",
       "    </tr>\n",
       "    <tr>\n",
       "      <th>293</th>\n",
       "      <td>K014</td>\n",
       "      <td>Day bus stop</td>\n",
       "      <td>2.132912</td>\n",
       "      <td>41.359207</td>\n",
       "      <td>BUS -79-125--</td>\n",
       "      <td>NaN</td>\n",
       "      <td>NaN</td>\n",
       "    </tr>\n",
       "    <tr>\n",
       "      <th>443</th>\n",
       "      <td>K015</td>\n",
       "      <td>Night bus stop</td>\n",
       "      <td>2.209424</td>\n",
       "      <td>41.425163</td>\n",
       "      <td>NITBUS -N11-N2--</td>\n",
       "      <td>NaN</td>\n",
       "      <td>NaN</td>\n",
       "    </tr>\n",
       "    <tr>\n",
       "      <th>1204</th>\n",
       "      <td>K014</td>\n",
       "      <td>Day bus stop</td>\n",
       "      <td>2.055835</td>\n",
       "      <td>41.365599</td>\n",
       "      <td>BUS -78-L46-L52--</td>\n",
       "      <td>NaN</td>\n",
       "      <td>NaN</td>\n",
       "    </tr>\n",
       "    <tr>\n",
       "      <th>1232</th>\n",
       "      <td>K014</td>\n",
       "      <td>Day bus stop</td>\n",
       "      <td>2.209424</td>\n",
       "      <td>41.425163</td>\n",
       "      <td>BUS -B25-V33--</td>\n",
       "      <td>NaN</td>\n",
       "      <td>NaN</td>\n",
       "    </tr>\n",
       "    <tr>\n",
       "      <th>1236</th>\n",
       "      <td>K014</td>\n",
       "      <td>Day bus stop</td>\n",
       "      <td>2.124490</td>\n",
       "      <td>41.373531</td>\n",
       "      <td>BUS -LH2--</td>\n",
       "      <td>NaN</td>\n",
       "      <td>NaN</td>\n",
       "    </tr>\n",
       "    <tr>\n",
       "      <th>1378</th>\n",
       "      <td>K014</td>\n",
       "      <td>Day bus stop</td>\n",
       "      <td>2.175509</td>\n",
       "      <td>41.463715</td>\n",
       "      <td>BUS -62-76-104-83--</td>\n",
       "      <td>NaN</td>\n",
       "      <td>NaN</td>\n",
       "    </tr>\n",
       "    <tr>\n",
       "      <th>1427</th>\n",
       "      <td>K014</td>\n",
       "      <td>Day bus stop</td>\n",
       "      <td>2.114631</td>\n",
       "      <td>41.375908</td>\n",
       "      <td>BUS -54-157-D20-H8--</td>\n",
       "      <td>NaN</td>\n",
       "      <td>NaN</td>\n",
       "    </tr>\n",
       "    <tr>\n",
       "      <th>1428</th>\n",
       "      <td>K015</td>\n",
       "      <td>Night bus stop</td>\n",
       "      <td>2.114631</td>\n",
       "      <td>41.375908</td>\n",
       "      <td>NITBUS -N14-N3--</td>\n",
       "      <td>NaN</td>\n",
       "      <td>NaN</td>\n",
       "    </tr>\n",
       "    <tr>\n",
       "      <th>1523</th>\n",
       "      <td>K015</td>\n",
       "      <td>Night bus stop</td>\n",
       "      <td>2.211892</td>\n",
       "      <td>41.421783</td>\n",
       "      <td>NITBUS -N2--</td>\n",
       "      <td>NaN</td>\n",
       "      <td>NaN</td>\n",
       "    </tr>\n",
       "    <tr>\n",
       "      <th>1566</th>\n",
       "      <td>K014</td>\n",
       "      <td>Day bus stop</td>\n",
       "      <td>2.120534</td>\n",
       "      <td>41.425856</td>\n",
       "      <td>BUS -111--</td>\n",
       "      <td>NaN</td>\n",
       "      <td>NaN</td>\n",
       "    </tr>\n",
       "    <tr>\n",
       "      <th>1634</th>\n",
       "      <td>K015</td>\n",
       "      <td>Night bus stop</td>\n",
       "      <td>2.055835</td>\n",
       "      <td>41.365599</td>\n",
       "      <td>NITBUS -N15--</td>\n",
       "      <td>NaN</td>\n",
       "      <td>NaN</td>\n",
       "    </tr>\n",
       "    <tr>\n",
       "      <th>2409</th>\n",
       "      <td>K014</td>\n",
       "      <td>Day bus stop</td>\n",
       "      <td>2.221753</td>\n",
       "      <td>41.413193</td>\n",
       "      <td>BUS -H16-V33--</td>\n",
       "      <td>NaN</td>\n",
       "      <td>NaN</td>\n",
       "    </tr>\n",
       "    <tr>\n",
       "      <th>2495</th>\n",
       "      <td>K014</td>\n",
       "      <td>Day bus stop</td>\n",
       "      <td>2.095815</td>\n",
       "      <td>41.433073</td>\n",
       "      <td>BUS -128--</td>\n",
       "      <td>NaN</td>\n",
       "      <td>NaN</td>\n",
       "    </tr>\n",
       "    <tr>\n",
       "      <th>2806</th>\n",
       "      <td>K014</td>\n",
       "      <td>Day bus stop</td>\n",
       "      <td>2.217777</td>\n",
       "      <td>41.418108</td>\n",
       "      <td>BUS -V33--</td>\n",
       "      <td>NaN</td>\n",
       "      <td>NaN</td>\n",
       "    </tr>\n",
       "  </tbody>\n",
       "</table>\n",
       "</div>"
      ],
      "text/plain": [
       "      Code       Transport  Longitude   Latitude              Bus.Stop  \\\n",
       "215   K015  Night bus stop   2.175509  41.463715          NITBUS -N3--   \n",
       "269   K014    Day bus stop   2.175149  41.463839            BUS -104--   \n",
       "293   K014    Day bus stop   2.132912  41.359207         BUS -79-125--   \n",
       "443   K015  Night bus stop   2.209424  41.425163      NITBUS -N11-N2--   \n",
       "1204  K014    Day bus stop   2.055835  41.365599     BUS -78-L46-L52--   \n",
       "1232  K014    Day bus stop   2.209424  41.425163        BUS -B25-V33--   \n",
       "1236  K014    Day bus stop   2.124490  41.373531            BUS -LH2--   \n",
       "1378  K014    Day bus stop   2.175509  41.463715   BUS -62-76-104-83--   \n",
       "1427  K014    Day bus stop   2.114631  41.375908  BUS -54-157-D20-H8--   \n",
       "1428  K015  Night bus stop   2.114631  41.375908      NITBUS -N14-N3--   \n",
       "1523  K015  Night bus stop   2.211892  41.421783          NITBUS -N2--   \n",
       "1566  K014    Day bus stop   2.120534  41.425856            BUS -111--   \n",
       "1634  K015  Night bus stop   2.055835  41.365599         NITBUS -N15--   \n",
       "2409  K014    Day bus stop   2.221753  41.413193        BUS -H16-V33--   \n",
       "2495  K014    Day bus stop   2.095815  41.433073            BUS -128--   \n",
       "2806  K014    Day bus stop   2.217777  41.418108            BUS -V33--   \n",
       "\n",
       "     District.Name Neighborhood.Name  \n",
       "215            NaN               NaN  \n",
       "269            NaN               NaN  \n",
       "293            NaN               NaN  \n",
       "443            NaN               NaN  \n",
       "1204           NaN               NaN  \n",
       "1232           NaN               NaN  \n",
       "1236           NaN               NaN  \n",
       "1378           NaN               NaN  \n",
       "1427           NaN               NaN  \n",
       "1428           NaN               NaN  \n",
       "1523           NaN               NaN  \n",
       "1566           NaN               NaN  \n",
       "1634           NaN               NaN  \n",
       "2409           NaN               NaN  \n",
       "2495           NaN               NaN  \n",
       "2806           NaN               NaN  "
      ]
     },
     "execution_count": 3,
     "metadata": {},
     "output_type": "execute_result"
    }
   ],
   "source": [
    "bus_stops[bus_stops['District.Name'].isnull()]"
   ]
  },
  {
   "cell_type": "code",
   "execution_count": 4,
   "metadata": {},
   "outputs": [
    {
     "data": {
      "text/plain": [
       "array(['K014', 'K015', 'K016', 'K017'], dtype=object)"
      ]
     },
     "execution_count": 4,
     "metadata": {},
     "output_type": "execute_result"
    }
   ],
   "source": [
    "bus_stops.Code.unique()"
   ]
  },
  {
   "cell_type": "code",
   "execution_count": 5,
   "metadata": {},
   "outputs": [
    {
     "data": {
      "text/plain": [
       "array(['Day bus stop', 'Night bus stop', 'Airport bus stop',\n",
       "       'Bus station'], dtype=object)"
      ]
     },
     "execution_count": 5,
     "metadata": {},
     "output_type": "execute_result"
    }
   ],
   "source": [
    "bus_stops.Transport.unique()"
   ]
  },
  {
   "cell_type": "code",
   "execution_count": 6,
   "metadata": {},
   "outputs": [
    {
     "data": {
      "text/html": [
       "<div>\n",
       "<style scoped>\n",
       "    .dataframe tbody tr th:only-of-type {\n",
       "        vertical-align: middle;\n",
       "    }\n",
       "\n",
       "    .dataframe tbody tr th {\n",
       "        vertical-align: top;\n",
       "    }\n",
       "\n",
       "    .dataframe thead th {\n",
       "        text-align: right;\n",
       "    }\n",
       "</style>\n",
       "<table border=\"1\" class=\"dataframe\">\n",
       "  <thead>\n",
       "    <tr style=\"text-align: right;\">\n",
       "      <th></th>\n",
       "      <th>Code</th>\n",
       "      <th>Transport</th>\n",
       "      <th>Longitude</th>\n",
       "      <th>Latitude</th>\n",
       "      <th>Station</th>\n",
       "      <th>District.Name</th>\n",
       "      <th>Neighborhood.Name</th>\n",
       "    </tr>\n",
       "  </thead>\n",
       "  <tbody>\n",
       "    <tr>\n",
       "      <th>0</th>\n",
       "      <td>K001</td>\n",
       "      <td>Underground</td>\n",
       "      <td>2.119370</td>\n",
       "      <td>41.399203</td>\n",
       "      <td>FGC (L6) - REINA ELISENDA (Sortida Duquesa d'O...</td>\n",
       "      <td>Sarrià-Sant Gervasi</td>\n",
       "      <td>Sarrià</td>\n",
       "    </tr>\n",
       "    <tr>\n",
       "      <th>1</th>\n",
       "      <td>K001</td>\n",
       "      <td>Underground</td>\n",
       "      <td>2.135427</td>\n",
       "      <td>41.397791</td>\n",
       "      <td>FGC (L6) - LA BONANOVA-</td>\n",
       "      <td>Sarrià-Sant Gervasi</td>\n",
       "      <td>Sant Gervasi - Galvany</td>\n",
       "    </tr>\n",
       "    <tr>\n",
       "      <th>2</th>\n",
       "      <td>K001</td>\n",
       "      <td>Underground</td>\n",
       "      <td>2.185391</td>\n",
       "      <td>41.451492</td>\n",
       "      <td>METRO (L11) - CASA DE L'AIGUA (C. Vila-Real)-</td>\n",
       "      <td>Nou Barris</td>\n",
       "      <td>la Trinitat Nova</td>\n",
       "    </tr>\n",
       "    <tr>\n",
       "      <th>3</th>\n",
       "      <td>K001</td>\n",
       "      <td>Underground</td>\n",
       "      <td>2.174473</td>\n",
       "      <td>41.460889</td>\n",
       "      <td>METRO (L11) - CIUTAT MERIDIANA (C. Pedraforca)-</td>\n",
       "      <td>Nou Barris</td>\n",
       "      <td>Ciutat Meridiana</td>\n",
       "    </tr>\n",
       "    <tr>\n",
       "      <th>4</th>\n",
       "      <td>K001</td>\n",
       "      <td>Underground</td>\n",
       "      <td>2.168588</td>\n",
       "      <td>41.387200</td>\n",
       "      <td>METRO (L1) - CATALUNYA (Rda. Universitat)-</td>\n",
       "      <td>Eixample</td>\n",
       "      <td>la Dreta de l'Eixample</td>\n",
       "    </tr>\n",
       "  </tbody>\n",
       "</table>\n",
       "</div>"
      ],
      "text/plain": [
       "   Code    Transport  Longitude   Latitude  \\\n",
       "0  K001  Underground   2.119370  41.399203   \n",
       "1  K001  Underground   2.135427  41.397791   \n",
       "2  K001  Underground   2.185391  41.451492   \n",
       "3  K001  Underground   2.174473  41.460889   \n",
       "4  K001  Underground   2.168588  41.387200   \n",
       "\n",
       "                                             Station        District.Name  \\\n",
       "0  FGC (L6) - REINA ELISENDA (Sortida Duquesa d'O...  Sarrià-Sant Gervasi   \n",
       "1                            FGC (L6) - LA BONANOVA-  Sarrià-Sant Gervasi   \n",
       "2      METRO (L11) - CASA DE L'AIGUA (C. Vila-Real)-           Nou Barris   \n",
       "3    METRO (L11) - CIUTAT MERIDIANA (C. Pedraforca)-           Nou Barris   \n",
       "4         METRO (L1) - CATALUNYA (Rda. Universitat)-             Eixample   \n",
       "\n",
       "        Neighborhood.Name  \n",
       "0                  Sarrià  \n",
       "1  Sant Gervasi - Galvany  \n",
       "2        la Trinitat Nova  \n",
       "3        Ciutat Meridiana  \n",
       "4  la Dreta de l'Eixample  "
      ]
     },
     "execution_count": 6,
     "metadata": {},
     "output_type": "execute_result"
    }
   ],
   "source": [
    "transports.head()"
   ]
  },
  {
   "cell_type": "code",
   "execution_count": 7,
   "metadata": {},
   "outputs": [
    {
     "data": {
      "text/plain": [
       "array(['K001', 'K002', 'K011', 'K008', 'K003', 'K004', 'K010', 'K009'],\n",
       "      dtype=object)"
      ]
     },
     "execution_count": 7,
     "metadata": {},
     "output_type": "execute_result"
    }
   ],
   "source": [
    "transports.Code.unique()"
   ]
  },
  {
   "cell_type": "code",
   "execution_count": 8,
   "metadata": {},
   "outputs": [
    {
     "data": {
      "text/plain": [
       "array(['Underground', 'Railway (FGC)', 'Tram', 'Maritime station',\n",
       "       'RENFE', 'Airport train', 'Cableway', 'Funicular'], dtype=object)"
      ]
     },
     "execution_count": 8,
     "metadata": {},
     "output_type": "execute_result"
    }
   ],
   "source": [
    "transports.Transport.unique()"
   ]
  },
  {
   "cell_type": "markdown",
   "metadata": {},
   "source": [
    "Below we can see that each unique value of *Code* is associated with a unique value of *Transport*, so now we now that we can either filter or look by any one of them"
   ]
  },
  {
   "cell_type": "code",
   "execution_count": 9,
   "metadata": {},
   "outputs": [
    {
     "data": {
      "text/plain": [
       "Code  Transport       \n",
       "K001  Underground         463\n",
       "K002  Railway (FGC)        54\n",
       "K003  RENFE                33\n",
       "K004  Airport train         9\n",
       "K008  Maritime station     16\n",
       "K009  Funicular             6\n",
       "K010  Cableway              5\n",
       "K011  Tram                 65\n",
       "Name: Transport, dtype: int64"
      ]
     },
     "execution_count": 9,
     "metadata": {},
     "output_type": "execute_result"
    }
   ],
   "source": [
    "transports.groupby('Code').Transport.value_counts()"
   ]
  },
  {
   "cell_type": "markdown",
   "metadata": {},
   "source": [
    "The first thing we notice is that the datasets don't have overlaping data. The **transports.csv** file contains all transportation methods in the city that are not bus stations.\n",
    "\n",
    "Also, both data sets have the same number of columns and the columns contain the same type of information. The only difference is the name of the column *Station* in transports data that is called *Bus.Stop* on the other DF.\n",
    "\n",
    "It would be nice to have only one dataset to work with, this is why I am going to concat the datasets, but first, I need to check if there is consistency in the data."
   ]
  },
  {
   "cell_type": "code",
   "execution_count": 10,
   "metadata": {},
   "outputs": [
    {
     "data": {
      "text/html": [
       "<div>\n",
       "<style scoped>\n",
       "    .dataframe tbody tr th:only-of-type {\n",
       "        vertical-align: middle;\n",
       "    }\n",
       "\n",
       "    .dataframe tbody tr th {\n",
       "        vertical-align: top;\n",
       "    }\n",
       "\n",
       "    .dataframe thead th {\n",
       "        text-align: right;\n",
       "    }\n",
       "</style>\n",
       "<table border=\"1\" class=\"dataframe\">\n",
       "  <thead>\n",
       "    <tr style=\"text-align: right;\">\n",
       "      <th></th>\n",
       "      <th>Code</th>\n",
       "      <th>Transport</th>\n",
       "      <th>Longitude</th>\n",
       "      <th>Latitude</th>\n",
       "      <th>Bus.Stop</th>\n",
       "      <th>District.Name</th>\n",
       "      <th>Neighborhood.Name</th>\n",
       "    </tr>\n",
       "  </thead>\n",
       "  <tbody>\n",
       "    <tr>\n",
       "      <th>count</th>\n",
       "      <td>3162</td>\n",
       "      <td>3162</td>\n",
       "      <td>3162.000000</td>\n",
       "      <td>3162.000000</td>\n",
       "      <td>3162</td>\n",
       "      <td>3146</td>\n",
       "      <td>3146</td>\n",
       "    </tr>\n",
       "    <tr>\n",
       "      <th>unique</th>\n",
       "      <td>4</td>\n",
       "      <td>4</td>\n",
       "      <td>NaN</td>\n",
       "      <td>NaN</td>\n",
       "      <td>711</td>\n",
       "      <td>10</td>\n",
       "      <td>73</td>\n",
       "    </tr>\n",
       "    <tr>\n",
       "      <th>top</th>\n",
       "      <td>K014</td>\n",
       "      <td>Day bus stop</td>\n",
       "      <td>NaN</td>\n",
       "      <td>NaN</td>\n",
       "      <td>NITBUS -N4--</td>\n",
       "      <td>Sarrià-Sant Gervasi</td>\n",
       "      <td>la Dreta de l'Eixample</td>\n",
       "    </tr>\n",
       "    <tr>\n",
       "      <th>freq</th>\n",
       "      <td>2324</td>\n",
       "      <td>2324</td>\n",
       "      <td>NaN</td>\n",
       "      <td>NaN</td>\n",
       "      <td>81</td>\n",
       "      <td>439</td>\n",
       "      <td>137</td>\n",
       "    </tr>\n",
       "    <tr>\n",
       "      <th>mean</th>\n",
       "      <td>NaN</td>\n",
       "      <td>NaN</td>\n",
       "      <td>2.159824</td>\n",
       "      <td>41.405002</td>\n",
       "      <td>NaN</td>\n",
       "      <td>NaN</td>\n",
       "      <td>NaN</td>\n",
       "    </tr>\n",
       "    <tr>\n",
       "      <th>std</th>\n",
       "      <td>NaN</td>\n",
       "      <td>NaN</td>\n",
       "      <td>0.027898</td>\n",
       "      <td>0.027150</td>\n",
       "      <td>NaN</td>\n",
       "      <td>NaN</td>\n",
       "      <td>NaN</td>\n",
       "    </tr>\n",
       "    <tr>\n",
       "      <th>min</th>\n",
       "      <td>NaN</td>\n",
       "      <td>NaN</td>\n",
       "      <td>2.055835</td>\n",
       "      <td>41.321643</td>\n",
       "      <td>NaN</td>\n",
       "      <td>NaN</td>\n",
       "      <td>NaN</td>\n",
       "    </tr>\n",
       "    <tr>\n",
       "      <th>25%</th>\n",
       "      <td>NaN</td>\n",
       "      <td>NaN</td>\n",
       "      <td>2.140627</td>\n",
       "      <td>41.386903</td>\n",
       "      <td>NaN</td>\n",
       "      <td>NaN</td>\n",
       "      <td>NaN</td>\n",
       "    </tr>\n",
       "    <tr>\n",
       "      <th>50%</th>\n",
       "      <td>NaN</td>\n",
       "      <td>NaN</td>\n",
       "      <td>2.161103</td>\n",
       "      <td>41.405734</td>\n",
       "      <td>NaN</td>\n",
       "      <td>NaN</td>\n",
       "      <td>NaN</td>\n",
       "    </tr>\n",
       "    <tr>\n",
       "      <th>75%</th>\n",
       "      <td>NaN</td>\n",
       "      <td>NaN</td>\n",
       "      <td>2.180406</td>\n",
       "      <td>41.423526</td>\n",
       "      <td>NaN</td>\n",
       "      <td>NaN</td>\n",
       "      <td>NaN</td>\n",
       "    </tr>\n",
       "    <tr>\n",
       "      <th>max</th>\n",
       "      <td>NaN</td>\n",
       "      <td>NaN</td>\n",
       "      <td>2.221753</td>\n",
       "      <td>41.467592</td>\n",
       "      <td>NaN</td>\n",
       "      <td>NaN</td>\n",
       "      <td>NaN</td>\n",
       "    </tr>\n",
       "  </tbody>\n",
       "</table>\n",
       "</div>"
      ],
      "text/plain": [
       "        Code     Transport    Longitude     Latitude      Bus.Stop  \\\n",
       "count   3162          3162  3162.000000  3162.000000          3162   \n",
       "unique     4             4          NaN          NaN           711   \n",
       "top     K014  Day bus stop          NaN          NaN  NITBUS -N4--   \n",
       "freq    2324          2324          NaN          NaN            81   \n",
       "mean     NaN           NaN     2.159824    41.405002           NaN   \n",
       "std      NaN           NaN     0.027898     0.027150           NaN   \n",
       "min      NaN           NaN     2.055835    41.321643           NaN   \n",
       "25%      NaN           NaN     2.140627    41.386903           NaN   \n",
       "50%      NaN           NaN     2.161103    41.405734           NaN   \n",
       "75%      NaN           NaN     2.180406    41.423526           NaN   \n",
       "max      NaN           NaN     2.221753    41.467592           NaN   \n",
       "\n",
       "              District.Name       Neighborhood.Name  \n",
       "count                  3146                    3146  \n",
       "unique                   10                      73  \n",
       "top     Sarrià-Sant Gervasi  la Dreta de l'Eixample  \n",
       "freq                    439                     137  \n",
       "mean                    NaN                     NaN  \n",
       "std                     NaN                     NaN  \n",
       "min                     NaN                     NaN  \n",
       "25%                     NaN                     NaN  \n",
       "50%                     NaN                     NaN  \n",
       "75%                     NaN                     NaN  \n",
       "max                     NaN                     NaN  "
      ]
     },
     "execution_count": 10,
     "metadata": {},
     "output_type": "execute_result"
    }
   ],
   "source": [
    "bus_stops.describe(include='all')"
   ]
  },
  {
   "cell_type": "code",
   "execution_count": 11,
   "metadata": {},
   "outputs": [
    {
     "data": {
      "text/html": [
       "<div>\n",
       "<style scoped>\n",
       "    .dataframe tbody tr th:only-of-type {\n",
       "        vertical-align: middle;\n",
       "    }\n",
       "\n",
       "    .dataframe tbody tr th {\n",
       "        vertical-align: top;\n",
       "    }\n",
       "\n",
       "    .dataframe thead th {\n",
       "        text-align: right;\n",
       "    }\n",
       "</style>\n",
       "<table border=\"1\" class=\"dataframe\">\n",
       "  <thead>\n",
       "    <tr style=\"text-align: right;\">\n",
       "      <th></th>\n",
       "      <th>Code</th>\n",
       "      <th>Transport</th>\n",
       "      <th>Longitude</th>\n",
       "      <th>Latitude</th>\n",
       "      <th>Station</th>\n",
       "      <th>District.Name</th>\n",
       "      <th>Neighborhood.Name</th>\n",
       "    </tr>\n",
       "  </thead>\n",
       "  <tbody>\n",
       "    <tr>\n",
       "      <th>count</th>\n",
       "      <td>651</td>\n",
       "      <td>651</td>\n",
       "      <td>651.000000</td>\n",
       "      <td>651.000000</td>\n",
       "      <td>651</td>\n",
       "      <td>487</td>\n",
       "      <td>487</td>\n",
       "    </tr>\n",
       "    <tr>\n",
       "      <th>unique</th>\n",
       "      <td>8</td>\n",
       "      <td>8</td>\n",
       "      <td>NaN</td>\n",
       "      <td>NaN</td>\n",
       "      <td>540</td>\n",
       "      <td>10</td>\n",
       "      <td>63</td>\n",
       "    </tr>\n",
       "    <tr>\n",
       "      <th>top</th>\n",
       "      <td>K001</td>\n",
       "      <td>Underground</td>\n",
       "      <td>NaN</td>\n",
       "      <td>NaN</td>\n",
       "      <td>METRO (L1) - BELLVITGE-</td>\n",
       "      <td>Eixample</td>\n",
       "      <td>la Dreta de l'Eixample</td>\n",
       "    </tr>\n",
       "    <tr>\n",
       "      <th>freq</th>\n",
       "      <td>463</td>\n",
       "      <td>463</td>\n",
       "      <td>NaN</td>\n",
       "      <td>NaN</td>\n",
       "      <td>5</td>\n",
       "      <td>120</td>\n",
       "      <td>61</td>\n",
       "    </tr>\n",
       "    <tr>\n",
       "      <th>mean</th>\n",
       "      <td>NaN</td>\n",
       "      <td>NaN</td>\n",
       "      <td>2.156517</td>\n",
       "      <td>41.399351</td>\n",
       "      <td>NaN</td>\n",
       "      <td>NaN</td>\n",
       "      <td>NaN</td>\n",
       "    </tr>\n",
       "    <tr>\n",
       "      <th>std</th>\n",
       "      <td>NaN</td>\n",
       "      <td>NaN</td>\n",
       "      <td>0.040061</td>\n",
       "      <td>0.028520</td>\n",
       "      <td>NaN</td>\n",
       "      <td>NaN</td>\n",
       "      <td>NaN</td>\n",
       "    </tr>\n",
       "    <tr>\n",
       "      <th>min</th>\n",
       "      <td>NaN</td>\n",
       "      <td>NaN</td>\n",
       "      <td>2.005280</td>\n",
       "      <td>41.304419</td>\n",
       "      <td>NaN</td>\n",
       "      <td>NaN</td>\n",
       "      <td>NaN</td>\n",
       "    </tr>\n",
       "    <tr>\n",
       "      <th>25%</th>\n",
       "      <td>NaN</td>\n",
       "      <td>NaN</td>\n",
       "      <td>2.135074</td>\n",
       "      <td>41.377156</td>\n",
       "      <td>NaN</td>\n",
       "      <td>NaN</td>\n",
       "      <td>NaN</td>\n",
       "    </tr>\n",
       "    <tr>\n",
       "      <th>50%</th>\n",
       "      <td>NaN</td>\n",
       "      <td>NaN</td>\n",
       "      <td>2.164163</td>\n",
       "      <td>41.396315</td>\n",
       "      <td>NaN</td>\n",
       "      <td>NaN</td>\n",
       "      <td>NaN</td>\n",
       "    </tr>\n",
       "    <tr>\n",
       "      <th>75%</th>\n",
       "      <td>NaN</td>\n",
       "      <td>NaN</td>\n",
       "      <td>2.182347</td>\n",
       "      <td>41.418754</td>\n",
       "      <td>NaN</td>\n",
       "      <td>NaN</td>\n",
       "      <td>NaN</td>\n",
       "    </tr>\n",
       "    <tr>\n",
       "      <th>max</th>\n",
       "      <td>NaN</td>\n",
       "      <td>NaN</td>\n",
       "      <td>2.249093</td>\n",
       "      <td>41.496321</td>\n",
       "      <td>NaN</td>\n",
       "      <td>NaN</td>\n",
       "      <td>NaN</td>\n",
       "    </tr>\n",
       "  </tbody>\n",
       "</table>\n",
       "</div>"
      ],
      "text/plain": [
       "        Code    Transport   Longitude    Latitude                  Station  \\\n",
       "count    651          651  651.000000  651.000000                      651   \n",
       "unique     8            8         NaN         NaN                      540   \n",
       "top     K001  Underground         NaN         NaN  METRO (L1) - BELLVITGE-   \n",
       "freq     463          463         NaN         NaN                        5   \n",
       "mean     NaN          NaN    2.156517   41.399351                      NaN   \n",
       "std      NaN          NaN    0.040061    0.028520                      NaN   \n",
       "min      NaN          NaN    2.005280   41.304419                      NaN   \n",
       "25%      NaN          NaN    2.135074   41.377156                      NaN   \n",
       "50%      NaN          NaN    2.164163   41.396315                      NaN   \n",
       "75%      NaN          NaN    2.182347   41.418754                      NaN   \n",
       "max      NaN          NaN    2.249093   41.496321                      NaN   \n",
       "\n",
       "       District.Name       Neighborhood.Name  \n",
       "count            487                     487  \n",
       "unique            10                      63  \n",
       "top         Eixample  la Dreta de l'Eixample  \n",
       "freq             120                      61  \n",
       "mean             NaN                     NaN  \n",
       "std              NaN                     NaN  \n",
       "min              NaN                     NaN  \n",
       "25%              NaN                     NaN  \n",
       "50%              NaN                     NaN  \n",
       "75%              NaN                     NaN  \n",
       "max              NaN                     NaN  "
      ]
     },
     "execution_count": 11,
     "metadata": {},
     "output_type": "execute_result"
    }
   ],
   "source": [
    "transports.describe(include='all')"
   ]
  },
  {
   "cell_type": "markdown",
   "metadata": {},
   "source": [
    "The longitude and latitude in both datasets seem to bee inside the bounds of Barcelona. The column *District.Name* have the same number of unique values, we will have to check if they are the same. For the *Neighborhood.Name* column, they have different number of unique values, we will have to check if the 63 different neighborhoods in *transports* DF are in the 73 unique neighborhoods of *bus_stops* DF."
   ]
  },
  {
   "cell_type": "code",
   "execution_count": 12,
   "metadata": {},
   "outputs": [
    {
     "data": {
      "text/plain": [
       "True"
      ]
     },
     "execution_count": 12,
     "metadata": {},
     "output_type": "execute_result"
    }
   ],
   "source": [
    "sorted(bus_stops['District.Name'].dropna().unique()) == sorted(transports['District.Name'].dropna().unique())"
   ]
  },
  {
   "cell_type": "code",
   "execution_count": 13,
   "metadata": {},
   "outputs": [],
   "source": [
    "for neighborhood in transports['Neighborhood.Name'].dropna().unique():\n",
    "    if neighborhood not in bus_stops['Neighborhood.Name'].dropna().unique():\n",
    "        print(f'{neighborhood} not included')"
   ]
  },
  {
   "cell_type": "markdown",
   "metadata": {},
   "source": [
    "Now we know that there is consistency between the datasets and we can concat them without problem or previous data cleaning. The only thing we still have to check is the missing values"
   ]
  },
  {
   "cell_type": "code",
   "execution_count": 14,
   "metadata": {},
   "outputs": [
    {
     "data": {
      "text/plain": [
       "Code                 0.00000\n",
       "Transport            0.00000\n",
       "Longitude            0.00000\n",
       "Latitude             0.00000\n",
       "Bus.Stop             0.00000\n",
       "District.Name        0.00506\n",
       "Neighborhood.Name    0.00506\n",
       "dtype: float64"
      ]
     },
     "execution_count": 14,
     "metadata": {},
     "output_type": "execute_result"
    }
   ],
   "source": [
    "bus_stops.isnull().sum() / bus_stops.shape[0]"
   ]
  },
  {
   "cell_type": "code",
   "execution_count": 15,
   "metadata": {},
   "outputs": [
    {
     "data": {
      "text/plain": [
       "Code                 0.00000\n",
       "Transport            0.00000\n",
       "Longitude            0.00000\n",
       "Latitude             0.00000\n",
       "Station              0.00000\n",
       "District.Name        0.25192\n",
       "Neighborhood.Name    0.25192\n",
       "dtype: float64"
      ]
     },
     "execution_count": 15,
     "metadata": {},
     "output_type": "execute_result"
    }
   ],
   "source": [
    "transports.isnull().sum() / transports.shape[0]"
   ]
  },
  {
   "cell_type": "markdown",
   "metadata": {},
   "source": [
    "The DF with bus stops has ver few missing values, but transports dataframe has 25% NaN's in *District.Name* and *Neighborhood.Name*. It seem that all rows with NaN in one of the columns have also NaN in the other one."
   ]
  },
  {
   "cell_type": "code",
   "execution_count": 16,
   "metadata": {},
   "outputs": [
    {
     "data": {
      "text/plain": [
       "True"
      ]
     },
     "execution_count": 16,
     "metadata": {},
     "output_type": "execute_result"
    }
   ],
   "source": [
    "# Check if when there is a NaN in District.Name there is also one in Neighborhood.Name\n",
    "len(transports[transports['District.Name'].isnull() & transports['Neighborhood.Name'].isnull()]) == len(transports[transports['District.Name'].isnull()])"
   ]
  },
  {
   "cell_type": "markdown",
   "metadata": {},
   "source": [
    "The missing values are not a problem because we have the latitude and longitude, thus, we can use those variables to plot the data in a map and use geoqueries to access those observations.\n",
    "\n",
    "We are going to concat the data so that we can work with only one Dataframe. To do this, I will have to change the column name of *Bus.Stop* to *Station*. This will make things easier in the future."
   ]
  },
  {
   "cell_type": "code",
   "execution_count": 17,
   "metadata": {},
   "outputs": [],
   "source": [
    "# Rename column Bus.Stop\n",
    "bus_stops.rename({'Bus.Stop': 'Station'}, inplace=True, axis='columns')\n",
    "\n",
    "# Concat Dataframes\n",
    "transport_data = pd.concat([bus_stops, transports])"
   ]
  },
  {
   "cell_type": "code",
   "execution_count": 18,
   "metadata": {},
   "outputs": [
    {
     "data": {
      "text/html": [
       "<div>\n",
       "<style scoped>\n",
       "    .dataframe tbody tr th:only-of-type {\n",
       "        vertical-align: middle;\n",
       "    }\n",
       "\n",
       "    .dataframe tbody tr th {\n",
       "        vertical-align: top;\n",
       "    }\n",
       "\n",
       "    .dataframe thead th {\n",
       "        text-align: right;\n",
       "    }\n",
       "</style>\n",
       "<table border=\"1\" class=\"dataframe\">\n",
       "  <thead>\n",
       "    <tr style=\"text-align: right;\">\n",
       "      <th></th>\n",
       "      <th>Code</th>\n",
       "      <th>Transport</th>\n",
       "      <th>Longitude</th>\n",
       "      <th>Latitude</th>\n",
       "      <th>Station</th>\n",
       "      <th>District.Name</th>\n",
       "      <th>Neighborhood.Name</th>\n",
       "    </tr>\n",
       "  </thead>\n",
       "  <tbody>\n",
       "    <tr>\n",
       "      <th>0</th>\n",
       "      <td>K014</td>\n",
       "      <td>Day bus stop</td>\n",
       "      <td>2.171619</td>\n",
       "      <td>41.413744</td>\n",
       "      <td>BUS -192--</td>\n",
       "      <td>Horta-Guinardó</td>\n",
       "      <td>el Guinardó</td>\n",
       "    </tr>\n",
       "    <tr>\n",
       "      <th>1</th>\n",
       "      <td>K014</td>\n",
       "      <td>Day bus stop</td>\n",
       "      <td>2.134902</td>\n",
       "      <td>41.420222</td>\n",
       "      <td>BUS -124--</td>\n",
       "      <td>Gràcia</td>\n",
       "      <td>Vallcarca i els Penitents</td>\n",
       "    </tr>\n",
       "    <tr>\n",
       "      <th>2</th>\n",
       "      <td>K014</td>\n",
       "      <td>Day bus stop</td>\n",
       "      <td>2.162913</td>\n",
       "      <td>41.423187</td>\n",
       "      <td>BUS -117--</td>\n",
       "      <td>Horta-Guinardó</td>\n",
       "      <td>la Font d'en Fargues</td>\n",
       "    </tr>\n",
       "    <tr>\n",
       "      <th>3</th>\n",
       "      <td>K014</td>\n",
       "      <td>Day bus stop</td>\n",
       "      <td>2.163667</td>\n",
       "      <td>41.422899</td>\n",
       "      <td>BUS -117--</td>\n",
       "      <td>Horta-Guinardó</td>\n",
       "      <td>la Font d'en Fargues</td>\n",
       "    </tr>\n",
       "    <tr>\n",
       "      <th>4</th>\n",
       "      <td>K014</td>\n",
       "      <td>Day bus stop</td>\n",
       "      <td>2.120212</td>\n",
       "      <td>41.397209</td>\n",
       "      <td>BUS -130--</td>\n",
       "      <td>Sarrià-Sant Gervasi</td>\n",
       "      <td>Sarrià</td>\n",
       "    </tr>\n",
       "  </tbody>\n",
       "</table>\n",
       "</div>"
      ],
      "text/plain": [
       "   Code     Transport  Longitude   Latitude     Station        District.Name  \\\n",
       "0  K014  Day bus stop   2.171619  41.413744  BUS -192--       Horta-Guinardó   \n",
       "1  K014  Day bus stop   2.134902  41.420222  BUS -124--               Gràcia   \n",
       "2  K014  Day bus stop   2.162913  41.423187  BUS -117--       Horta-Guinardó   \n",
       "3  K014  Day bus stop   2.163667  41.422899  BUS -117--       Horta-Guinardó   \n",
       "4  K014  Day bus stop   2.120212  41.397209  BUS -130--  Sarrià-Sant Gervasi   \n",
       "\n",
       "           Neighborhood.Name  \n",
       "0                el Guinardó  \n",
       "1  Vallcarca i els Penitents  \n",
       "2       la Font d'en Fargues  \n",
       "3       la Font d'en Fargues  \n",
       "4                     Sarrià  "
      ]
     },
     "execution_count": 18,
     "metadata": {},
     "output_type": "execute_result"
    }
   ],
   "source": [
    "transport_data.head()"
   ]
  },
  {
   "cell_type": "code",
   "execution_count": 19,
   "metadata": {},
   "outputs": [
    {
     "data": {
      "text/plain": [
       "array(['Day bus stop', 'Night bus stop', 'Airport bus stop',\n",
       "       'Bus station', 'Underground', 'Railway (FGC)', 'Tram',\n",
       "       'Maritime station', 'RENFE', 'Airport train', 'Cableway',\n",
       "       'Funicular'], dtype=object)"
      ]
     },
     "execution_count": 19,
     "metadata": {},
     "output_type": "execute_result"
    }
   ],
   "source": [
    "transport_data.Transport.unique()"
   ]
  },
  {
   "cell_type": "code",
   "execution_count": 20,
   "metadata": {},
   "outputs": [
    {
     "data": {
      "text/plain": [
       "NITBUS -N4--                             81\n",
       "NITBUS -N3--                             71\n",
       "NITBUS -N6--                             67\n",
       "NITBUS -N8--                             61\n",
       "NITBUS -N0--                             60\n",
       "                                         ..\n",
       "BUS -39-45-V17--                          1\n",
       "BUS -47-132-82-D40-V29-D50--              1\n",
       "BUS -H12-V31-136--                        1\n",
       "BUS -23-109--                             1\n",
       "METRO (L3) - POBLE SEC (C. de Manso)-     1\n",
       "Name: Station, Length: 1251, dtype: int64"
      ]
     },
     "execution_count": 20,
     "metadata": {},
     "output_type": "execute_result"
    }
   ],
   "source": [
    "transport_data['Station'].value_counts()"
   ]
  },
  {
   "cell_type": "code",
   "execution_count": 21,
   "metadata": {},
   "outputs": [
    {
     "data": {
      "text/html": [
       "<div>\n",
       "<style scoped>\n",
       "    .dataframe tbody tr th:only-of-type {\n",
       "        vertical-align: middle;\n",
       "    }\n",
       "\n",
       "    .dataframe tbody tr th {\n",
       "        vertical-align: top;\n",
       "    }\n",
       "\n",
       "    .dataframe thead th {\n",
       "        text-align: right;\n",
       "    }\n",
       "</style>\n",
       "<table border=\"1\" class=\"dataframe\">\n",
       "  <thead>\n",
       "    <tr style=\"text-align: right;\">\n",
       "      <th></th>\n",
       "      <th>Code</th>\n",
       "      <th>Transport</th>\n",
       "      <th>Longitude</th>\n",
       "      <th>Latitude</th>\n",
       "      <th>Station</th>\n",
       "      <th>District.Name</th>\n",
       "      <th>Neighborhood.Name</th>\n",
       "    </tr>\n",
       "  </thead>\n",
       "  <tbody>\n",
       "    <tr>\n",
       "      <th>0</th>\n",
       "      <td>K001</td>\n",
       "      <td>Underground</td>\n",
       "      <td>2.119370</td>\n",
       "      <td>41.399203</td>\n",
       "      <td>FGC (L6) - REINA ELISENDA (Sortida Duquesa d'O...</td>\n",
       "      <td>Sarrià-Sant Gervasi</td>\n",
       "      <td>Sarrià</td>\n",
       "    </tr>\n",
       "    <tr>\n",
       "      <th>1</th>\n",
       "      <td>K001</td>\n",
       "      <td>Underground</td>\n",
       "      <td>2.135427</td>\n",
       "      <td>41.397791</td>\n",
       "      <td>FGC (L6) - LA BONANOVA-</td>\n",
       "      <td>Sarrià-Sant Gervasi</td>\n",
       "      <td>Sant Gervasi - Galvany</td>\n",
       "    </tr>\n",
       "    <tr>\n",
       "      <th>2</th>\n",
       "      <td>K001</td>\n",
       "      <td>Underground</td>\n",
       "      <td>2.185391</td>\n",
       "      <td>41.451492</td>\n",
       "      <td>METRO (L11) - CASA DE L'AIGUA (C. Vila-Real)-</td>\n",
       "      <td>Nou Barris</td>\n",
       "      <td>la Trinitat Nova</td>\n",
       "    </tr>\n",
       "    <tr>\n",
       "      <th>3</th>\n",
       "      <td>K001</td>\n",
       "      <td>Underground</td>\n",
       "      <td>2.174473</td>\n",
       "      <td>41.460889</td>\n",
       "      <td>METRO (L11) - CIUTAT MERIDIANA (C. Pedraforca)-</td>\n",
       "      <td>Nou Barris</td>\n",
       "      <td>Ciutat Meridiana</td>\n",
       "    </tr>\n",
       "    <tr>\n",
       "      <th>4</th>\n",
       "      <td>K001</td>\n",
       "      <td>Underground</td>\n",
       "      <td>2.168588</td>\n",
       "      <td>41.387200</td>\n",
       "      <td>METRO (L1) - CATALUNYA (Rda. Universitat)-</td>\n",
       "      <td>Eixample</td>\n",
       "      <td>la Dreta de l'Eixample</td>\n",
       "    </tr>\n",
       "  </tbody>\n",
       "</table>\n",
       "</div>"
      ],
      "text/plain": [
       "   Code    Transport  Longitude   Latitude  \\\n",
       "0  K001  Underground   2.119370  41.399203   \n",
       "1  K001  Underground   2.135427  41.397791   \n",
       "2  K001  Underground   2.185391  41.451492   \n",
       "3  K001  Underground   2.174473  41.460889   \n",
       "4  K001  Underground   2.168588  41.387200   \n",
       "\n",
       "                                             Station        District.Name  \\\n",
       "0  FGC (L6) - REINA ELISENDA (Sortida Duquesa d'O...  Sarrià-Sant Gervasi   \n",
       "1                            FGC (L6) - LA BONANOVA-  Sarrià-Sant Gervasi   \n",
       "2      METRO (L11) - CASA DE L'AIGUA (C. Vila-Real)-           Nou Barris   \n",
       "3    METRO (L11) - CIUTAT MERIDIANA (C. Pedraforca)-           Nou Barris   \n",
       "4         METRO (L1) - CATALUNYA (Rda. Universitat)-             Eixample   \n",
       "\n",
       "        Neighborhood.Name  \n",
       "0                  Sarrià  \n",
       "1  Sant Gervasi - Galvany  \n",
       "2        la Trinitat Nova  \n",
       "3        Ciutat Meridiana  \n",
       "4  la Dreta de l'Eixample  "
      ]
     },
     "execution_count": 21,
     "metadata": {},
     "output_type": "execute_result"
    }
   ],
   "source": [
    "transports.head()"
   ]
  },
  {
   "cell_type": "code",
   "execution_count": 22,
   "metadata": {},
   "outputs": [
    {
     "data": {
      "text/plain": [
       "Code  Station                                                       \n",
       "K001  METRO (L1) - BELLVITGE-                                           5\n",
       "      METRO (L1) - PLAÇA DE SANTS (C. de Sants)-                        4\n",
       "      METRO (L1) - RAMBLA JUST OLIVERAS-                                4\n",
       "      METRO (L1) - SANTA COLOMA-                                        4\n",
       "      METRO (L2) - PEP VENTURA-                                         4\n",
       "                                                                       ..\n",
       "K011  TRAMVIA BLAU - AV. TIBIDABO (Rda. de Dalt-Bosch i Alsina)-        1\n",
       "      TRAMVIA BLAU - AV. TIBIDABO (Romà Macaya-Dr. Ribas Perdigó)-      1\n",
       "      TRAMVIA BLAU - AV. TIBIDABO (Teodor Roviralta-Adrià Margarit)-    1\n",
       "      TRAMVIA BLAU - PL. DR. ANDREU-                                    1\n",
       "      Tramvia (T3) - SANT FELIU/CONSELL COMARCAL-                       1\n",
       "Name: Station, Length: 540, dtype: int64"
      ]
     },
     "execution_count": 22,
     "metadata": {},
     "output_type": "execute_result"
    }
   ],
   "source": [
    "transports.groupby('Code').Station.value_counts()"
   ]
  },
  {
   "cell_type": "markdown",
   "metadata": {},
   "source": [
    "I want to clean the data so that for each station and type of transport I have the lines that pass through. I will create a new column named *Lines* to stores al the lines that pass through each station with lists. There are some type of transports which don't have lines, for example RENFE, these types of transport will have their transport type as the line name, so that I don't have blank lists. There is also a special case for the tramvias. There is one type of tramvia called *TRAMVIA BLAU* which doesn't have a line number, for the stations where this tramvia passes, the lists will contain *BLAU*."
   ]
  },
  {
   "cell_type": "code",
   "execution_count": 23,
   "metadata": {},
   "outputs": [],
   "source": [
    "# Get the lines of each station\n",
    "\n",
    "def get_lines(row):\n",
    "    if row['Code'] in ['K002', 'K003', 'K004', 'K008', 'K009', 'K010', 'K017']:\n",
    "        if row['Code'] == 'K002':\n",
    "            return 'FGC'\n",
    "        else:\n",
    "            return row['Transport']\n",
    "    elif row['Code'] == 'K011' and 'blau' in row['Station'].lower():\n",
    "        return 'BLAU'\n",
    "    else:\n",
    "        res = re.findall(r'\\w*\\d+', row['Station']) #Get the line. The line can be consecutive digits or a letter followed by one or more digits\n",
    "        if res  == []:\n",
    "            if '-BCTE-' in row['Station']:\n",
    "                res.append('BCTE')\n",
    "            if '-BCTO-' in row['Station']:\n",
    "                res.append('BCTO')\n",
    "            if '-CJ-' in row['Station']:\n",
    "                res.append('CJ')\n",
    "        return res\n"
   ]
  },
  {
   "cell_type": "code",
   "execution_count": 24,
   "metadata": {},
   "outputs": [
    {
     "data": {
      "text/html": [
       "<div>\n",
       "<style scoped>\n",
       "    .dataframe tbody tr th:only-of-type {\n",
       "        vertical-align: middle;\n",
       "    }\n",
       "\n",
       "    .dataframe tbody tr th {\n",
       "        vertical-align: top;\n",
       "    }\n",
       "\n",
       "    .dataframe thead th {\n",
       "        text-align: right;\n",
       "    }\n",
       "</style>\n",
       "<table border=\"1\" class=\"dataframe\">\n",
       "  <thead>\n",
       "    <tr style=\"text-align: right;\">\n",
       "      <th></th>\n",
       "      <th>Code</th>\n",
       "      <th>Transport</th>\n",
       "      <th>Longitude</th>\n",
       "      <th>Latitude</th>\n",
       "      <th>Station</th>\n",
       "      <th>District.Name</th>\n",
       "      <th>Neighborhood.Name</th>\n",
       "      <th>Lines</th>\n",
       "    </tr>\n",
       "  </thead>\n",
       "  <tbody>\n",
       "    <tr>\n",
       "      <th>0</th>\n",
       "      <td>K014</td>\n",
       "      <td>Day bus stop</td>\n",
       "      <td>2.171619</td>\n",
       "      <td>41.413744</td>\n",
       "      <td>BUS -192--</td>\n",
       "      <td>Horta-Guinardó</td>\n",
       "      <td>el Guinardó</td>\n",
       "      <td>[192]</td>\n",
       "    </tr>\n",
       "    <tr>\n",
       "      <th>1</th>\n",
       "      <td>K014</td>\n",
       "      <td>Day bus stop</td>\n",
       "      <td>2.134902</td>\n",
       "      <td>41.420222</td>\n",
       "      <td>BUS -124--</td>\n",
       "      <td>Gràcia</td>\n",
       "      <td>Vallcarca i els Penitents</td>\n",
       "      <td>[124]</td>\n",
       "    </tr>\n",
       "    <tr>\n",
       "      <th>2</th>\n",
       "      <td>K014</td>\n",
       "      <td>Day bus stop</td>\n",
       "      <td>2.162913</td>\n",
       "      <td>41.423187</td>\n",
       "      <td>BUS -117--</td>\n",
       "      <td>Horta-Guinardó</td>\n",
       "      <td>la Font d'en Fargues</td>\n",
       "      <td>[117]</td>\n",
       "    </tr>\n",
       "    <tr>\n",
       "      <th>3</th>\n",
       "      <td>K014</td>\n",
       "      <td>Day bus stop</td>\n",
       "      <td>2.163667</td>\n",
       "      <td>41.422899</td>\n",
       "      <td>BUS -117--</td>\n",
       "      <td>Horta-Guinardó</td>\n",
       "      <td>la Font d'en Fargues</td>\n",
       "      <td>[117]</td>\n",
       "    </tr>\n",
       "    <tr>\n",
       "      <th>4</th>\n",
       "      <td>K014</td>\n",
       "      <td>Day bus stop</td>\n",
       "      <td>2.120212</td>\n",
       "      <td>41.397209</td>\n",
       "      <td>BUS -130--</td>\n",
       "      <td>Sarrià-Sant Gervasi</td>\n",
       "      <td>Sarrià</td>\n",
       "      <td>[130]</td>\n",
       "    </tr>\n",
       "  </tbody>\n",
       "</table>\n",
       "</div>"
      ],
      "text/plain": [
       "   Code     Transport  Longitude   Latitude     Station        District.Name  \\\n",
       "0  K014  Day bus stop   2.171619  41.413744  BUS -192--       Horta-Guinardó   \n",
       "1  K014  Day bus stop   2.134902  41.420222  BUS -124--               Gràcia   \n",
       "2  K014  Day bus stop   2.162913  41.423187  BUS -117--       Horta-Guinardó   \n",
       "3  K014  Day bus stop   2.163667  41.422899  BUS -117--       Horta-Guinardó   \n",
       "4  K014  Day bus stop   2.120212  41.397209  BUS -130--  Sarrià-Sant Gervasi   \n",
       "\n",
       "           Neighborhood.Name  Lines  \n",
       "0                el Guinardó  [192]  \n",
       "1  Vallcarca i els Penitents  [124]  \n",
       "2       la Font d'en Fargues  [117]  \n",
       "3       la Font d'en Fargues  [117]  \n",
       "4                     Sarrià  [130]  "
      ]
     },
     "execution_count": 24,
     "metadata": {},
     "output_type": "execute_result"
    }
   ],
   "source": [
    "# Create new column Lines\n",
    "\n",
    "transport_data['Lines'] = transport_data.apply(get_lines, axis=1)\n",
    "transport_data.head()"
   ]
  },
  {
   "cell_type": "markdown",
   "metadata": {},
   "source": [
    "---\n",
    "\n",
    "To conclude with the cleaning, we are going to export the data to a csv file so that we can work with the clean data."
   ]
  },
  {
   "cell_type": "code",
   "execution_count": 25,
   "metadata": {},
   "outputs": [],
   "source": [
    "# Export data to csv\n",
    "# Uncoment the line below if you want to generate the clean data\n",
    "#transport_data.to_csv(\"transports_clean.csv\")"
   ]
  },
  {
   "cell_type": "markdown",
   "metadata": {},
   "source": [
    "---\n",
    "\n",
    "The next thing that we need to do is to have the data in geoJSON format so that we can make geoqueries. To do this, we have created a collection in mongodb that will be filled with the new data in the geoJSON format. \n",
    "\n",
    "The cleaned data has been added as a collection to mongodb. We are goin to connect to mongo, get that database in JSON format, transform the data to geoJSON format and insert that new data to the blank collection that we have created called geo_transports"
   ]
  },
  {
   "cell_type": "code",
   "execution_count": 26,
   "metadata": {},
   "outputs": [],
   "source": [
    "url = os.getenv('url')\n",
    "client = MongoClient(url)\n",
    "BCN = client.get_database('BCN')"
   ]
  },
  {
   "cell_type": "code",
   "execution_count": 27,
   "metadata": {},
   "outputs": [],
   "source": [
    "transports_json = BCN.transports_clean"
   ]
  },
  {
   "cell_type": "code",
   "execution_count": 28,
   "metadata": {},
   "outputs": [],
   "source": [
    "# Erase _id, and get the data in a list to iterate over it and create the new variable Location\n",
    "\n",
    "geo_transports = list(transports_json.find({},{\"_id\":0}))"
   ]
  },
  {
   "cell_type": "code",
   "execution_count": 29,
   "metadata": {},
   "outputs": [
    {
     "data": {
      "text/plain": [
       "{'': '0',\n",
       " 'Code': 'K014',\n",
       " 'Transport': 'Day bus stop',\n",
       " 'Longitude': '2.171619',\n",
       " 'Latitude': '41.413744',\n",
       " 'Station': 'BUS -192--',\n",
       " 'District': {'Name': 'Horta-Guinardó'},\n",
       " 'Neighborhood': {'Name': 'el Guinardó'},\n",
       " 'Lines': \"['192']\"}"
      ]
     },
     "execution_count": 29,
     "metadata": {},
     "output_type": "execute_result"
    }
   ],
   "source": [
    "geo_transports[0]"
   ]
  },
  {
   "cell_type": "code",
   "execution_count": 30,
   "metadata": {},
   "outputs": [],
   "source": [
    "# Now for each document in the data, we are going to transform it to geoJSON format. The variable data will later be used to fill the blank collection that we have in mongo.\n",
    "\n",
    "data = []\n",
    "i = 0\n",
    "for gt in geo_transports:\n",
    "    gt[\"Location\"] = {\n",
    "        \"type\":\"Point\",\n",
    "        \"coordinates\": [gt[\"Longitude\"], gt[\"Latitude\"]]\n",
    "    }\n",
    "    del gt['Lines']\n",
    "    gt['Lines'] = transport_data.iloc[i].loc['Lines']\n",
    "    data.append(gt)\n",
    "    i += 1"
   ]
  },
  {
   "cell_type": "code",
   "execution_count": 31,
   "metadata": {},
   "outputs": [
    {
     "data": {
      "text/plain": [
       "{'': '73',\n",
       " 'Code': 'K014',\n",
       " 'Transport': 'Day bus stop',\n",
       " 'Longitude': '2.192252',\n",
       " 'Latitude': '41.379159',\n",
       " 'Station': 'BUS -BCTE--',\n",
       " 'District': {'Name': 'Ciutat Vella'},\n",
       " 'Neighborhood': {'Name': 'la Barceloneta'},\n",
       " 'Location': {'type': 'Point', 'coordinates': ['2.192252', '41.379159']},\n",
       " 'Lines': ['BCTE']}"
      ]
     },
     "execution_count": 31,
     "metadata": {},
     "output_type": "execute_result"
    }
   ],
   "source": [
    "data[73]"
   ]
  },
  {
   "cell_type": "code",
   "execution_count": 32,
   "metadata": {},
   "outputs": [
    {
     "data": {
      "text/plain": [
       "<pymongo.results.InsertManyResult at 0x1d713177a30>"
      ]
     },
     "execution_count": 32,
     "metadata": {},
     "output_type": "execute_result"
    }
   ],
   "source": [
    "# Now we get the blanck collection and fill it with the data\n",
    "new_transports = BCN.geo_transports\n",
    "\n",
    "new_transports.insert_many(data)"
   ]
  }
 ],
 "metadata": {
  "kernelspec": {
   "display_name": "Python 3.10.7 64-bit",
   "language": "python",
   "name": "python3"
  },
  "language_info": {
   "codemirror_mode": {
    "name": "ipython",
    "version": 3
   },
   "file_extension": ".py",
   "mimetype": "text/x-python",
   "name": "python",
   "nbconvert_exporter": "python",
   "pygments_lexer": "ipython3",
   "version": "3.10.7"
  },
  "orig_nbformat": 4,
  "vscode": {
   "interpreter": {
    "hash": "8e0429b9260c54ffbac252d2ebb7ce6bcad139fe257868aa37244aca59b5ace9"
   }
  }
 },
 "nbformat": 4,
 "nbformat_minor": 2
}
